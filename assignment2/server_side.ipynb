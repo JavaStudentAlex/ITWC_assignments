{
 "cells": [
  {
   "cell_type": "markdown",
   "metadata": {
    "collapsed": true,
    "pycharm": {
     "is_executing": false,
     "name": "#%% md\n"
    }
   },
   "source": [
    "# Prerequisites for work"
   ]
  },
  {
   "cell_type": "code",
   "execution_count": 1,
   "outputs": [],
   "source": [
    "import socket\n",
    "import json\n",
    "\n",
    "server_address = (\"localhost\", 12345)"
   ],
   "metadata": {
    "collapsed": false,
    "pycharm": {
     "name": "#%%\n",
     "is_executing": false
    }
   }
  },
  {
   "cell_type": "markdown",
   "source": [
    "# The server side"
   ],
   "metadata": {
    "collapsed": false,
    "pycharm": {
     "name": "#%% md\n"
    }
   }
  },
  {
   "cell_type": "code",
   "execution_count": 2,
   "outputs": [
    {
     "name": "stdout",
     "text": [
      "server started\n",
      "server finished\n"
     ],
     "output_type": "stream"
    }
   ],
   "source": [
    "server_socket = socket.socket(socket.AF_INET, socket.SOCK_STREAM)\n",
    "server_socket.bind(server_address)\n",
    "server_socket.listen(5)\n",
    "print(\"server started\")\n",
    "def handle_connection(con, addres):\n",
    "    size = 4096\n",
    "    data = bytearray()\n",
    "    while(True):\n",
    "        part_data = con.recv(size)\n",
    "        data += part_data\n",
    "        if len(part_data) < size:\n",
    "            return json.loads(data.decode())\n",
    "\n",
    "\n",
    "urls = handle_connection(*server_socket.accept())\n",
    "print(\"server finished\")"
   ],
   "metadata": {
    "collapsed": false,
    "pycharm": {
     "name": "#%%\n",
     "is_executing": false
    }
   }
  },
  {
   "cell_type": "markdown",
   "source": [
    "# Some functions and data structs for join devided parts"
   ],
   "metadata": {
    "collapsed": false,
    "pycharm": {
     "name": "#%% md\n"
    }
   }
  },
  {
   "cell_type": "code",
   "execution_count": 3,
   "outputs": [],
   "source": [
    "dividers = {\"netloc\":\"://{}\",\n",
    "            \"params\":\"?{}\",\n",
    "            \"port\":\":{}\",\n",
    "            \"query\":\"?{}\",\n",
    "            \"fragment\":\"#{}\"\n",
    "            }\n",
    "\n",
    "def form_component(url, part_name):\n",
    "    if url[part_name] == \"\":\n",
    "        return \"\"\n",
    "    elif part_name not in dividers.keys():\n",
    "        return url[part_name]\n",
    "    return dividers[part_name].format(url[part_name])"
   ],
   "metadata": {
    "collapsed": false,
    "pycharm": {
     "name": "#%%\n",
     "is_executing": false
    }
   }
  },
  {
   "cell_type": "markdown",
   "source": [
    " \n",
    "# The final results are"
   ],
   "metadata": {
    "collapsed": false,
    "pycharm": {
     "name": "#%% md\n",
     "is_executing": false
    }
   }
  },
  {
   "cell_type": "code",
   "execution_count": 4,
   "outputs": [
    {
     "name": "stdout",
     "text": [
      "http://ww.google.uk:1000path/to/myfile.html?key1=value1&key2=value2#InTheDocument\nhttp://b-ok.cc/book/3509074/cc3423?dsource=mostpopular\nhttp://est.uni-koblenz.de/studying/ws1920/introduction-web-science\nhttp://www.uni-koblenz-landau.de/de\nhttp://www.edx.org/course/nutrition-and-cancer\nhttp://www.uni-koblenz-landau.de/de\nhttp://www.google.com/search?q=machine+learning&oq=mechine&aqs=chrome.1.69i57j0l7.4169j0j7&sourceid=chrome&ie=UTF-8\nhttp://est.uni-koblenz.de/studying/ws1920/introduction-web-science\nhttp://www.overleaf.com/9565720ckjijuhzpbccsd##/347876331/\n"
     ],
     "output_type": "stream"
    }
   ],
   "source": [
    "for url_parts in urls:\n",
    "    url_components = []\n",
    "    for k in url_parts.keys():\n",
    "        url_components.append(form_component(url_parts, k))\n",
    "    print(\"\".join(url_components))\n",
    "    \n"
   ],
   "metadata": {
    "collapsed": false,
    "pycharm": {
     "name": "#%%\n",
     "is_executing": false
    }
   }
  }
 ],
 "metadata": {
  "kernelspec": {
   "display_name": "Python 3",
   "language": "python",
   "name": "python3"
  },
  "language_info": {
   "codemirror_mode": {
    "name": "ipython",
    "version": 2
   },
   "file_extension": ".py",
   "mimetype": "text/x-python",
   "name": "python",
   "nbconvert_exporter": "python",
   "pygments_lexer": "ipython2",
   "version": "2.7.6"
  },
  "pycharm": {
   "stem_cell": {
    "cell_type": "raw",
    "source": [],
    "metadata": {
     "collapsed": false
    }
   }
  }
 },
 "nbformat": 4,
 "nbformat_minor": 0
}