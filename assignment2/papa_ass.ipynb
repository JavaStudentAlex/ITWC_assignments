{
 "cells": [
  {
   "cell_type": "markdown",
   "metadata": {},
   "source": [
    "# List of sampling Urls"
   ]
  },
  {
   "cell_type": "code",
   "execution_count": 1,
   "metadata": {
    "pycharm": {
     "is_executing": false
    }
   },
   "outputs": [],
   "source": [
    "lisOfUrl=[\"http://www.google.uk:1000/path/to/myfile.html?key1=value1&key2=value2#InTheDocument\"\n",
    "         ,\"https://b-ok.cc/book/3509074/cc3423?dsource=mostpopular\", \n",
    "         \"http://west.uni-koblenz.de/studying/ws1920/introduction-web-science\",\n",
    "         \"https://www.uni-koblenz-landau.de/de\",\"https://www.edx.org/course/nutrition-and-cancer\",\n",
    "         \"https://www.uni-koblenz-landau.de/de\"\n",
    "         ,\"https://www.google.com/search?q=machine+learning&oq=mechine&aqs=chrome.1.69i57j0l7.4169j0j7&sourceid=chrome&ie=UTF-8\"\n",
    "         ,\"http://west.uni-koblenz.de/studying/ws1920/introduction-web-science\"\n",
    "         ,\"https://www.overleaf.com/9565720ckjijuhzpbccsd#/347876331/\"]"
   ]
  },
  {
   "cell_type": "markdown",
   "metadata": {},
   "source": [
    "# Write def urlparser (url ) referring to helping functions\n"
   ]
  },
  {
   "cell_type": "code",
   "execution_count": 2,
   "metadata": {
    "pycharm": {
     "is_executing": false
    }
   },
   "outputs": [],
   "source": [
    "def urlparser1(url):\n",
    "    DicForParse= {'scheme': '' , 'netloc': '','port':'', 'path':'','query': '' , 'fragment':''}\n",
    "    removePartUrl=url\n",
    "    if \"http\" in removePartUrl:\n",
    "        DicForParse.update(scheme = 'http' )\n",
    "        removePartUrl = removePartUrl[len('http://')+1:]\n",
    "    else:\n",
    "        DicForParse.update(scheme = 'http' )\n",
    "\n",
    "    netloc1 =helfun2(removePartUrl,':','/')\n",
    "    removePartUrl=netloc1[0]\n",
    "    DicForParse.update(netloc = netloc1[1])\n",
    "    \n",
    "    port1=helpfun(removePartUrl,':','/')\n",
    "    DicForParse.update(port=port1[1])\n",
    "    removePartUrl=port1[0]\n",
    "   \n",
    "    \n",
    "    path1=helfun2(removePartUrl,'?','#')\n",
    "    removePartUrl =path1[0]\n",
    "    DicForParse.update(path=path1[1]) \n",
    "    \n",
    "    query1=helpfun(removePartUrl,'?','#')\n",
    "    removePartUrl =query1[0]\n",
    "    DicForParse.update(query =query1[1]) \n",
    "\n",
    "    fragment=''\n",
    "    for f in removePartUrl:\n",
    "        if f =='#':\n",
    "            DicForParse.update(fragment =removePartUrl[removePartUrl.index(f)+1:])\n",
    "            break\n",
    "\n",
    "    DicForParse.update(fragment =removePartUrl)\n",
    "\n",
    "    return DicForParse     "
   ]
  },
  {
   "cell_type": "markdown",
   "metadata": {},
   "source": [
    "# The helping functions"
   ]
  },
  {
   "cell_type": "code",
   "execution_count": 3,
   "metadata": {
    "pycharm": {
     "is_executing": false
    }
   },
   "outputs": [],
   "source": [
    "def helpfun(a,b,c):\n",
    "    var=''\n",
    "    removePartUrl=a\n",
    "    for x in removePartUrl:\n",
    "        if x==b:\n",
    "            removePartUrl=removePartUrl[removePartUrl.index(x)+1:]\n",
    "            for x1 in removePartUrl:\n",
    "                if x1==c:\n",
    "                    removePartUrl=removePartUrl[removePartUrl.index(x1)+1:]\n",
    "                    break\n",
    "                else:\n",
    "                    var+=x1\n",
    "                    removePartUrl=removePartUrl[removePartUrl.index(x1)+1:]\n",
    "    return removePartUrl, var\n",
    "\n",
    "def helfun2(a,b,c):\n",
    "    var=''\n",
    "    removePartUrl=a\n",
    "    for n in removePartUrl:\n",
    "        if n ==b or n ==c:\n",
    "            removePartUrl =removePartUrl[removePartUrl.index(n):]\n",
    "            break\n",
    "        else:\n",
    "            var+=n\n",
    "            removePartUrl =removePartUrl[removePartUrl.index(n)+1:]\n",
    "    return removePartUrl, var"
   ]
  },
  {
   "cell_type": "markdown",
   "metadata": {
    "pycharm": {
     "name": "#%% md\n",
     "is_executing": false
    }
   },
   "source": [
    "# Execute the code written above"
   ]
  },
  {
   "cell_type": "code",
   "execution_count": 4,
   "outputs": [
    {
     "name": "stdout",
     "text": [
      "{'scheme': 'http', 'netloc': 'ww.google.uk', 'port': '1000', 'path': 'path/to/myfile.html', 'query': 'key1=value1&key2=value2', 'fragment': 'InTheDocument'} \n\n{'scheme': 'http', 'netloc': 'b-ok.cc', 'port': '', 'path': '/book/3509074/cc3423', 'query': 'dsource=mostpopular', 'fragment': ''} \n\n{'scheme': 'http', 'netloc': 'est.uni-koblenz.de', 'port': '', 'path': '/studying/ws1920/introduction-web-science', 'query': '', 'fragment': ''} \n\n{'scheme': 'http', 'netloc': 'www.uni-koblenz-landau.de', 'port': '', 'path': '/de', 'query': '', 'fragment': ''} \n\n{'scheme': 'http', 'netloc': 'www.edx.org', 'port': '', 'path': '/course/nutrition-and-cancer', 'query': '', 'fragment': ''} \n\n{'scheme': 'http', 'netloc': 'www.uni-koblenz-landau.de', 'port': '', 'path': '/de', 'query': '', 'fragment': ''} \n\n{'scheme': 'http', 'netloc': 'www.google.com', 'port': '', 'path': '/search', 'query': 'q=machine+learning&oq=mechine&aqs=chrome.1.69i57j0l7.4169j0j7&sourceid=chrome&ie=UTF-8', 'fragment': ''} \n\n{'scheme': 'http', 'netloc': 'est.uni-koblenz.de', 'port': '', 'path': '/studying/ws1920/introduction-web-science', 'query': '', 'fragment': ''} \n\n{'scheme': 'http', 'netloc': 'www.overleaf.com', 'port': '', 'path': '/9565720ckjijuhzpbccsd', 'query': '', 'fragment': '#/347876331/'} \n\n"
     ],
     "output_type": "stream"
    }
   ],
   "source": [
    "for x in lisOfUrl:\n",
    "    print(urlparser1(x),\"\\n\")"
   ],
   "metadata": {
    "collapsed": false,
    "pycharm": {
     "name": "#%%\n",
     "is_executing": false
    }
   }
  },
  {
   "cell_type": "code",
   "source": [
    "# make test urls"
   ],
   "metadata": {
    "collapsed": false,
    "pycharm": {
     "name": "#%% md \n",
     "is_executing": false
    }
   },
   "execution_count": 5,
   "outputs": []
  },
  {
   "cell_type": "code",
   "execution_count": 6,
   "outputs": [],
   "source": [
    "urls_for_server_test = [urlparser1(url) for url in lisOfUrl]"
   ],
   "metadata": {
    "collapsed": false,
    "pycharm": {
     "name": "#%%\n",
     "is_executing": false
    }
   }
  },
  {
   "cell_type": "code",
   "execution_count": 7,
   "outputs": [
    {
     "name": "stdout",
     "text": [
      "start feeding\nfinish feeding\n"
     ],
     "output_type": "stream"
    }
   ],
   "source": [
    "import json\n",
    "import socket\n",
    "\n",
    "server_adress = (\"localhost\", 12345)\n",
    "message = \"Hello network world\"\n",
    "client_socket = socket.socket()\n",
    "client_socket.connect(server_adress)\n",
    "print(\"start feeding\")\n",
    "input_str = json.dumps(urls_for_server_test).encode()\n",
    "client_socket.sendall(input_str)\n",
    "print(\"finish feeding\")\n"
   ],
   "metadata": {
    "collapsed": false,
    "pycharm": {
     "name": "#%%\n",
     "is_executing": false
    }
   }
  }
 ],
 "metadata": {
  "kernelspec": {
   "display_name": "Python 3",
   "language": "python",
   "name": "python3"
  },
  "language_info": {
   "codemirror_mode": {
    "name": "ipython",
    "version": 3
   },
   "file_extension": ".py",
   "mimetype": "text/x-python",
   "name": "python",
   "nbconvert_exporter": "python",
   "pygments_lexer": "ipython3",
   "version": "3.7.3"
  },
  "pycharm": {
   "stem_cell": {
    "cell_type": "raw",
    "source": [],
    "metadata": {
     "collapsed": false
    }
   }
  }
 },
 "nbformat": 4,
 "nbformat_minor": 2
}