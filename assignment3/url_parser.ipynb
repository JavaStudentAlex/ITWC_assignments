{
 "cells": [
  {
   "cell_type": "markdown",
   "metadata": {},
   "source": [
    "# Write def urlparser (url ) referring to helping functions\n"
   ]
  },
  {
   "cell_type": "code",
   "execution_count": 2,
   "metadata": {
    "pycharm": {
     "is_executing": false
    }
   },
   "outputs": [],
   "source": [
    "def urlparser1(url):\n",
    "    DicForParse= {'scheme': '' , 'netloc': '','port':'', 'path':'','query': '' , 'fragment':''}\n",
    "    removePartUrl=url\n",
    "    if \"http\" in removePartUrl:\n",
    "        DicForParse.update(scheme = 'http' )\n",
    "        removePartUrl = removePartUrl[len('http://'):]\n",
    "    else:\n",
    "        DicForParse.update(scheme = 'http' )\n",
    "\n",
    "    netloc1 =helfun2(removePartUrl,':','/')\n",
    "    removePartUrl=netloc1[0]\n",
    "    DicForParse.update(netloc = netloc1[1])\n",
    "    \n",
    "    port1=helpfun(removePartUrl,':','/')\n",
    "    DicForParse.update(port=port1[1])\n",
    "    removePartUrl=port1[0]\n",
    "   \n",
    "    \n",
    "    path1=helfun2(removePartUrl,'?','#')\n",
    "    removePartUrl =path1[0]\n",
    "    DicForParse.update(path=path1[1]) \n",
    "    \n",
    "    query1=helpfun(removePartUrl,'?','#')\n",
    "    removePartUrl =query1[0]\n",
    "    DicForParse.update(query =query1[1]) \n",
    "\n",
    "    fragment=''\n",
    "    for f in removePartUrl:\n",
    "        if f =='#':\n",
    "            DicForParse.update(fragment =removePartUrl[removePartUrl.index(f)+1:])\n",
    "            break\n",
    "\n",
    "    DicForParse.update(fragment =removePartUrl)\n",
    "\n",
    "    return DicForParse     "
   ]
  },
  {
   "cell_type": "markdown",
   "metadata": {},
   "source": [
    "# The helping functions"
   ]
  },
  {
   "cell_type": "code",
   "execution_count": 3,
   "metadata": {
    "pycharm": {
     "is_executing": false,
     "name": "#%%\n"
    }
   },
   "outputs": [],
   "source": [
    "def helpfun(a,b,c):\n",
    "    var=''\n",
    "    removePartUrl=a\n",
    "    for x in removePartUrl:\n",
    "        if x==b:\n",
    "            removePartUrl=removePartUrl[removePartUrl.index(x)+1:]\n",
    "            for x1 in removePartUrl:\n",
    "                if x1==c:\n",
    "                    removePartUrl=removePartUrl[removePartUrl.index(x1)+1:]\n",
    "                    break\n",
    "                else:\n",
    "                    var+=x1\n",
    "                    removePartUrl=removePartUrl[removePartUrl.index(x1)+1:]\n",
    "    return removePartUrl, var\n",
    "\n",
    "def helfun2(a,b,c):\n",
    "    var=''\n",
    "    removePartUrl=a\n",
    "    for n in removePartUrl:\n",
    "        if n ==b or n ==c:\n",
    "            removePartUrl =removePartUrl[removePartUrl.index(n):]\n",
    "            break\n",
    "        else:\n",
    "            var+=n\n",
    "            removePartUrl =removePartUrl[removePartUrl.index(n)+1:]\n",
    "    return removePartUrl, var\n",
    "\n"
   ]
  }
 ],
 "metadata": {
  "kernelspec": {
   "display_name": "Python 3",
   "language": "python",
   "name": "python3"
  },
  "language_info": {
   "codemirror_mode": {
    "name": "ipython",
    "version": 3
   },
   "file_extension": ".py",
   "mimetype": "text/x-python",
   "name": "python",
   "nbconvert_exporter": "python",
   "pygments_lexer": "ipython3",
   "version": "3.7.3"
  },
  "pycharm": {
   "stem_cell": {
    "cell_type": "raw",
    "source": [],
    "metadata": {
     "collapsed": false
    }
   }
  }
 },
 "nbformat": 4,
 "nbformat_minor": 2
}