{
 "cells": [
  {
   "cell_type": "code",
   "execution_count": 182,
   "metadata": {},
   "outputs": [],
   "source": [
    "import pandas as pd\n",
    "import matplotlib.pyplot as plt\n",
    "letters = {}\n",
    "with open(\"sample.txt\") as source_file: # open the file, read symbol by symbol and count the frequency\n",
    "    for letter in source_file.read():\n",
    "        if letter in letters.keys():\n",
    "            letters[letter] += 1\n",
    "        else:\n",
    "            letters[letter] = 1"
   ]
  },
  {
   "cell_type": "code",
   "execution_count": 183,
   "metadata": {},
   "outputs": [],
   "source": [
    "dataset = pd.DataFrame.from_dict(letters,orient=\"index\", columns=[\"frequency\"]) # create DataFrame from dict"
   ]
  },
  {
   "cell_type": "code",
   "execution_count": 184,
   "metadata": {},
   "outputs": [],
   "source": [
    "def plot_letters_frequency_distribution(dataframe): #funtion to make histogram for dataset\n",
    "    letters_array = dataframe.index.values #get \n",
    "    frequency_array = dataframe[\"frequency\"].values.astype(\"int64\")\n",
    "    plt.bar(letters_array, frequency_array)\n",
    "    plt.xticks(letters_array)\n",
    "    plt.xlabel(\"letters\")\n",
    "    plt.ylabel(\"frequency\")\n",
    "    plt.show()"
   ]
  },
  {
   "cell_type": "code",
   "execution_count": 185,
   "metadata": {},
   "outputs": [
    {
     "data": {
      "image/png": "[encoded data removed]",
      "text/plain": [
       "<Figure size 432x288 with 1 Axes>"
      ]
     },
     "metadata": {
      "needs_background": "light"
     },
     "output_type": "display_data"
    }
   ],
   "source": [
    "plot_letters_frequency_distribution(dataset) #plotting frequency"
   ]
  },
  {
   "cell_type": "code",
   "execution_count": 186,
   "metadata": {},
   "outputs": [],
   "source": [
    "rows_numbers_to_delete = round(len(dataset)*0.2) #deleting 20% of highest frequency\n",
    "indexes_to_delete = dataset.sort_values(by=\"frequency\", ascending=False)[0:rows_numbers_to_delete].index.values\n",
    "new_dataset = dataset.drop(indexes_to_delete)"
   ]
  },
  {
   "cell_type": "code",
   "execution_count": 187,
   "metadata": {},
   "outputs": [
    {
     "data": {
      "image/png": "[encoded data removed]",
      "text/plain": [
       "<Figure size 432x288 with 1 Axes>"
      ]
     },
     "metadata": {
      "needs_background": "light"
     },
     "output_type": "display_data"
    }
   ],
   "source": [
    "plot_letters_frequency_distribution(new_dataset) #plotting new dataset"
   ]
  }
 ],
 "metadata": {
  "kernelspec": {
   "display_name": "Python 3",
   "language": "python",
   "name": "python3"
  },
  "language_info": {
   "codemirror_mode": {
    "name": "ipython",
    "version": 3
   },
   "file_extension": ".py",
   "mimetype": "text/x-python",
   "name": "python",
   "nbconvert_exporter": "python",
   "pygments_lexer": "ipython3",
   "version": "3.7.3"
  }
 },
 "nbformat": 4,
 "nbformat_minor": 2
}
