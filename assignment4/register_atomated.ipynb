{
 "cells": [
  {
   "cell_type": "code",
   "metadata": {
    "collapsed": true,
    "pycharm": {
     "name": "#%% \n",
     "is_executing": false
    }
   },
   "source": [
    "url = \"http://0.0.0.0:8080/form\"\n",
    "path = \"DynamicWeb/contacts.txt\"\n",
    "\n",
    "def main_func():\n",
    "    users = get_next_name_mail(path)\n",
    "    register_results = register_users(users)\n",
    "    plot_succ_unsucc_attempts(register_results)\n",
    "    plot_users_len(register_results)"
   ],
   "execution_count": 183,
   "outputs": []
  },
  {
   "cell_type": "code",
   "execution_count": 184,
   "outputs": [],
   "source": [
    "def get_next_name_mail(file_path):\n",
    "    with open(file_path, \"r\") as file_reader:\n",
    "        yield from file_reader"
   ],
   "metadata": {
    "collapsed": false,
    "pycharm": {
     "name": "#%%\n",
     "is_executing": false
    }
   }
  },
  {
   "cell_type": "code",
   "execution_count": 185,
   "outputs": [],
   "source": [
    "def register_users(user_gen):\n",
    "    res_list = list()\n",
    "    for creds in user_gen:\n",
    "        name, email = (i.strip() for i in creds.split(\",\")[:2])\n",
    "        data_dict = {\"name\":name, \"email\":email}\n",
    "        resp = post(url, data_dict)\n",
    "        result_tuple = parse_response(resp)\n",
    "        res_list.append(result_tuple)\n",
    "    return res_list"
   ],
   "metadata": {
    "collapsed": false,
    "pycharm": {
     "name": "#%%\n",
     "is_executing": false
    }
   }
  },
  {
   "cell_type": "code",
   "execution_count": 186,
   "outputs": [],
   "source": [
    "import requests as re\n",
    "\n",
    "responces = list()\n",
    "\n",
    "def post(url,params):\n",
    "    response = re.post(url, params)\n",
    "    response.raw.decode_content = True\n",
    "    return response.content.decode()"
   ],
   "metadata": {
    "collapsed": false,
    "pycharm": {
     "name": "#%%\n",
     "is_executing": false
    }
   }
  },
  {
   "cell_type": "code",
   "execution_count": 187,
   "outputs": [],
   "source": [
    "import re as regexp\n",
    "def parse_response(response):\n",
    "    list_len_pattern = regexp.compile(r\"(?<=>)([0-9]+)(?=</em>)\")\n",
    "    error_message = \"Error!\"\n",
    "    list_len = regexp.findall(list_len_pattern, response)[0]\n",
    "    if error_message in response:\n",
    "        return False,list_len\n",
    "    return True, list_len\n",
    "    "
   ],
   "metadata": {
    "collapsed": false,
    "pycharm": {
     "name": "#%%\n",
     "is_executing": false
    }
   }
  },
  {
   "cell_type": "code",
   "execution_count": 188,
   "outputs": [],
   "source": [
    "import matplotlib.pyplot as plt\n",
    "\n",
    "def plot_succ_unsucc_attempts(result_list):\n",
    "    x = list(range(1,len(result_list)+1))\n",
    "    y = [i[0] for i in result_list]\n",
    "    plt.scatter(x, y)\n",
    "    axes = plt.gca()\n",
    "    axes.set_yticks((0,1))\n",
    "    axes.set_xticks(x)\n",
    "    axes.set_yticklabels((\"Error\", \"Successful\"))\n",
    "    plt.xlabel(\"Attempt number\")\n",
    "    plt.ylabel(\"Fail/Success\")\n",
    "    plt.grid()\n",
    "    plt.show()"
   ],
   "metadata": {
    "collapsed": false,
    "pycharm": {
     "name": "#%%\n",
     "is_executing": false
    }
   }
  },
  {
   "cell_type": "code",
   "execution_count": 189,
   "outputs": [],
   "source": [
    "def plot_users_len(result_list):\n",
    "    x = list(range(1,len(result_list)+1))\n",
    "    y = [i[1] for i in result_list]\n",
    "    plt.plot(x,y)\n",
    "    axes = plt.gca()\n",
    "    axes.set_xticks(x)\n",
    "    plt.grid()\n",
    "    plt.xlabel(\"Attempts\")\n",
    "    plt.ylabel(\"Users\")\n",
    "    plt.show()"
   ],
   "metadata": {
    "collapsed": false,
    "pycharm": {
     "name": "#%%\n",
     "is_executing": false
    }
   }
  },
  {
   "cell_type": "code",
   "execution_count": 190,
   "outputs": [
    {
     "data": {
      "text/plain": "<Figure size 432x288 with 1 Axes>",
      "image/png": "[encoded data removed]"
     },
     "metadata": {
      "needs_background": "light"
     },
     "output_type": "display_data"
    },
    {
     "data": {
      "text/plain": "<Figure size 432x288 with 1 Axes>",
      "image/png": "[encoded data removed]"
     },
     "metadata": {
      "needs_background": "light"
     },
     "output_type": "display_data"
    }
   ],
   "source": [
    "main_func()\n"
   ],
   "metadata": {
    "collapsed": false,
    "pycharm": {
     "name": "#%%\n",
     "is_executing": false
    }
   }
  }
 ],
 "metadata": {
  "kernelspec": {
   "display_name": "Python 3",
   "language": "python",
   "name": "python3"
  },
  "language_info": {
   "codemirror_mode": {
    "name": "ipython",
    "version": 2
   },
   "file_extension": ".py",
   "mimetype": "text/x-python",
   "name": "python",
   "nbconvert_exporter": "python",
   "pygments_lexer": "ipython2",
   "version": "2.7.6"
  },
  "pycharm": {
   "stem_cell": {
    "cell_type": "raw",
    "source": [],
    "metadata": {
     "collapsed": false
    }
   }
  }
 },
 "nbformat": 4,
 "nbformat_minor": 0
}