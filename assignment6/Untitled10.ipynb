{
 "cells": [
  {
   "cell_type": "code",
   "execution_count": 17,
   "metadata": {
    "pycharm": {
     "is_executing": false
    }
   },
   "outputs": [],
   "source": [
    "import pandas as pd\n",
    "import numpy as np\n",
    "import math\n",
    "import re\n",
    "import matplotlib.pyplot as plt"
   ]
  },
  {
   "cell_type": "markdown",
   "source": [
    "# Zipf\n"
   ],
   "metadata": {
    "collapsed": false,
    "pycharm": {
     "name": "#%% md\n"
    }
   }
  },
  {
   "cell_type": "code",
   "execution_count": 18,
   "outputs": [
    {
     "name": "stdout",
     "text": [
      "file is read\n"
     ],
     "output_type": "stream"
    }
   ],
   "source": [
    "#file is too big, read it line by line\n",
    "def next_file_line(file_name):\n",
    "    with open(file_name, \"rt\") as in_file:\n",
    "        yield from in_file\n",
    "\n",
    "#find the words in each raw      \n",
    "word_pattern = re.compile(r\"\\w+\")\n",
    "word_freq = {}\n",
    "words_counter = 0\n",
    "for file_raw in next_file_line(\"data.txt\"):\n",
    "    raw_words = re.findall(word_pattern, file_raw)\n",
    "    for word in raw_words:\n",
    "        words_counter += 1\n",
    "        if word in word_freq:\n",
    "            word_freq[word] += 1\n",
    "        else:\n",
    "            word_freq[word] = 1\n",
    "            \n",
    "print(\"file is read\")"
   ],
   "metadata": {
    "collapsed": false,
    "pycharm": {
     "name": "#%%\n",
     "is_executing": false
    }
   }
  },
  {
   "cell_type": "code",
   "execution_count": 19,
   "outputs": [],
   "source": [
    "ranked_words_frequency = sorted(word_freq.values(), reverse=True)"
   ],
   "metadata": {
    "collapsed": false,
    "pycharm": {
     "name": "#%%\n",
     "is_executing": false
    }
   }
  },
  {
   "cell_type": "code",
   "execution_count": 20,
   "outputs": [],
   "source": [
    "word_ranks = [i+1 for i in range(len(ranked_words_frequency))]"
   ],
   "metadata": {
    "collapsed": false,
    "pycharm": {
     "name": "#%%\n",
     "is_executing": false
    }
   }
  },
  {
   "cell_type": "code",
   "execution_count": 21,
   "outputs": [],
   "source": [
    "#zipf function\n",
    "def calc_zipf_approximate_func(x_iterable, C, k):\n",
    "    return [C*math.pow(i, -1 * k) for i in x_iterable]"
   ],
   "metadata": {
    "collapsed": false,
    "pycharm": {
     "name": "#%%\n",
     "is_executing": false
    }
   }
  },
  {
   "cell_type": "code",
   "execution_count": 22,
   "outputs": [],
   "source": [
    "#simple data to log10 scale\n",
    "def make_data_for_log_scale(data):\n",
    "    scaling = lambda i : math.log(i, 10)\n",
    "    return np.array(list(map(scaling, data)))"
   ],
   "metadata": {
    "collapsed": false,
    "pycharm": {
     "name": "#%%\n",
     "is_executing": false
    }
   }
  },
  {
   "cell_type": "code",
   "execution_count": 23,
   "outputs": [],
   "source": [
    "#prepare all date for plotting\n",
    "x_log = make_data_for_log_scale(word_ranks)\n",
    "C = 954708\n",
    "zipf1 = make_data_for_log_scale(calc_zipf_approximate_func(word_ranks, C, 0.9))\n",
    "zipf2 = make_data_for_log_scale(calc_zipf_approximate_func(word_ranks, C, 1.0))\n",
    "zipf3 = make_data_for_log_scale(calc_zipf_approximate_func(word_ranks, C, 1.1))\n",
    "y_log = make_data_for_log_scale(ranked_words_frequency)"
   ],
   "metadata": {
    "collapsed": false,
    "pycharm": {
     "name": "#%%\n",
     "is_executing": false
    }
   }
  },
  {
   "cell_type": "code",
   "execution_count": 24,
   "outputs": [
    {
     "data": {
      "text/plain": "<Figure size 432x288 with 1 Axes>",
      "image/png": "[encoded data removed]"
     },
     "metadata": {
      "needs_background": "light"
     },
     "output_type": "display_data"
    }
   ],
   "source": [
    "plt.plot(x_log, zipf1, color=\"red\")\n",
    "plt.plot(x_log, zipf2, color=\"green\")\n",
    "plt.plot(x_log, zipf3, color=\"yellow\")\n",
    "plt.plot(x_log, y_log, color=\"blue\")\n",
    "ticks = range(7)\n",
    "name_ticks = [\"10^{}\".format(i) for i in ticks]\n",
    "axes = plt.gca()\n",
    "axes.set_xticks(ticks)\n",
    "axes.set_yticks(ticks)\n",
    "axes.set_xticklabels(name_ticks)\n",
    "axes.set_yticklabels(name_ticks)\n",
    "plt.grid()\n",
    "plt.xlabel(\"words rank\")\n",
    "plt.ylabel(\"frequency\")\n",
    "plt.show()"
   ],
   "metadata": {
    "collapsed": false,
    "pycharm": {
     "name": "#%%\n",
     "is_executing": false
    }
   }
  },
  {
   "cell_type": "code",
   "execution_count": 25,
   "outputs": [],
   "source": [
    "# We built with the red, yellow and green colors functions type C/(x^k), where parametrs C = 954708 and k ~~ 1(0.9, 1.0, 1.1).\n",
    "# As we can on the graph there is the function of word`s frequency built by blue color. The blue function goes very close to \n",
    "# zipf functions."
   ],
   "metadata": {
    "collapsed": false,
    "pycharm": {
     "name": "#%%\n",
     "is_executing": false
    }
   }
  },
  {
   "cell_type": "markdown",
   "metadata": {},
   "source": [
    "# Similarity Measurement I"
   ]
  },
  {
   "cell_type": "code",
   "execution_count": 26,
   "metadata": {
    "pycharm": {
     "is_executing": false
    }
   },
   "outputs": [
    {
     "name": "stdout",
     "text": [
      "intersection_D1_D2 = 4 , union_D1_D2 = 12 , Jaccard_coefficient_D0_D1 = 0.3333333333333333\n",
      "intersection_D1_D3 = 1 , union_D1_D3 = 14 , Jaccard_coefficient_D0_D2 = 0.07142857142857142\n",
      "intersection_D2_D3 = 1 , union_D2_D3 = 16 , Jaccard_coefficient_D0_D3 = 0.0625\n"
     ],
     "output_type": "stream"
    }
   ],
   "source": [
    "\n",
    "D1 = 'this is a text about web science'.split(' ')\n",
    "D2 = 'web science is covering the analysis of text corpa'.split(' ')\n",
    "D3 = 'scientific methods are used to analyze web pages'.split(' ')\n",
    "\n",
    "#create a function which helps us to find intersection the other documents with\n",
    "def intersection(LIST_1, LIST_2): \n",
    "    return  list(set(LIST_1)&set(LIST_2))\n",
    "\n",
    "# create a function which helps us to find unique words between D0 and the other documents\n",
    "def union(LIST_1, LIST_2): \n",
    "    return list(set(LIST_1+LIST_2))\n",
    "\n",
    "# create a function which helps us to calculate Jaccard_coefficient\n",
    "def Jaccard_coefficient(LIST_1, LIST_2):\n",
    "    return len(LIST_1)/len(LIST_2)\n",
    "\n",
    "print('intersection_D1_D2 =', len(intersection(D1,D2)),',', 'union_D1_D2 =', len(union(D1,D2)),',', 'Jaccard_coefficient_D0_D1 =' ,Jaccard_coefficient(intersection(D1,D2), union(D1,D2)))\n",
    "print('intersection_D1_D3 =', len(intersection(D1,D3)),',', 'union_D1_D3 =', len(union(D1,D3)),',', 'Jaccard_coefficient_D0_D2 =' ,Jaccard_coefficient(intersection(D1,D3), union(D1,D3)))\n",
    "print('intersection_D2_D3 =', len(intersection(D2,D3)),',', 'union_D2_D3 =', len(union(D2,D3)),',', 'Jaccard_coefficient_D0_D3 =' ,Jaccard_coefficient(intersection(D2,D3), union(D2,D3)))\n"
   ]
  },
  {
   "cell_type": "code",
   "execution_count": 27,
   "metadata": {
    "pycharm": {
     "is_executing": false
    }
   },
   "outputs": [
    {
     "data": {
      "text/plain": "       Intersection  Union  Jaccard_coefficient\nD1_D2             4     12             0.333333\nD1_D3             1     14             0.071429\nD2_D3             1     16             0.062500",
      "text/html": "<div>\n<style scoped>\n    .dataframe tbody tr th:only-of-type {\n        vertical-align: middle;\n    }\n\n    .dataframe tbody tr th {\n        vertical-align: top;\n    }\n\n    .dataframe thead th {\n        text-align: right;\n    }\n</style>\n<table border=\"1\" class=\"dataframe\">\n  <thead>\n    <tr style=\"text-align: right;\">\n      <th></th>\n      <th>Intersection</th>\n      <th>Union</th>\n      <th>Jaccard_coefficient</th>\n    </tr>\n  </thead>\n  <tbody>\n    <tr>\n      <th>D1_D2</th>\n      <td>4</td>\n      <td>12</td>\n      <td>0.333333</td>\n    </tr>\n    <tr>\n      <th>D1_D3</th>\n      <td>1</td>\n      <td>14</td>\n      <td>0.071429</td>\n    </tr>\n    <tr>\n      <th>D2_D3</th>\n      <td>1</td>\n      <td>16</td>\n      <td>0.062500</td>\n    </tr>\n  </tbody>\n</table>\n</div>"
     },
     "metadata": {},
     "output_type": "execute_result",
     "execution_count": 27
    }
   ],
   "source": [
    "df=pd.DataFrame({'Intersection':[len(intersection(D1,D2)), len(intersection(D1,D3)),len(intersection(D2,D3))],\n",
    "                'Union':[len(union(D1,D2)),len(union(D1,D3)),len(union(D2,D3))],\n",
    "                'Jaccard_coefficient':[Jaccard_coefficient(intersection(D1,D2), union(D1,D2)),\n",
    "                                       Jaccard_coefficient(intersection(D1,D3), union(D1,D3)),\n",
    "                                       Jaccard_coefficient(intersection(D2,D3), union(D2,D3))]},\n",
    "               index=['D1_D2','D1_D3','D2_D3'])\n",
    "df"
   ]
  },
  {
   "cell_type": "markdown",
   "metadata": {},
   "source": [
    "#   Similarity Measurement II"
   ]
  },
  {
   "cell_type": "markdown",
   "metadata": {},
   "source": [
    " Generates a term frequency vector for each of the document"
   ]
  },
  {
   "cell_type": "code",
   "execution_count": 28,
   "metadata": {
    "scrolled": true,
    "pycharm": {
     "is_executing": false
    }
   },
   "outputs": [
    {
     "data": {
      "text/plain": "           D_1  D_2  D_3\nare          0    1    0\nbeautiful    0    1    1\ni            1    0    1\nkoblenz      0    0    1\nlove         1    0    1\nyou          1    1    0",
      "text/html": "<div>\n<style scoped>\n    .dataframe tbody tr th:only-of-type {\n        vertical-align: middle;\n    }\n\n    .dataframe tbody tr th {\n        vertical-align: top;\n    }\n\n    .dataframe thead th {\n        text-align: right;\n    }\n</style>\n<table border=\"1\" class=\"dataframe\">\n  <thead>\n    <tr style=\"text-align: right;\">\n      <th></th>\n      <th>D_1</th>\n      <th>D_2</th>\n      <th>D_3</th>\n    </tr>\n  </thead>\n  <tbody>\n    <tr>\n      <th>are</th>\n      <td>0</td>\n      <td>1</td>\n      <td>0</td>\n    </tr>\n    <tr>\n      <th>beautiful</th>\n      <td>0</td>\n      <td>1</td>\n      <td>1</td>\n    </tr>\n    <tr>\n      <th>i</th>\n      <td>1</td>\n      <td>0</td>\n      <td>1</td>\n    </tr>\n    <tr>\n      <th>koblenz</th>\n      <td>0</td>\n      <td>0</td>\n      <td>1</td>\n    </tr>\n    <tr>\n      <th>love</th>\n      <td>1</td>\n      <td>0</td>\n      <td>1</td>\n    </tr>\n    <tr>\n      <th>you</th>\n      <td>1</td>\n      <td>1</td>\n      <td>0</td>\n    </tr>\n  </tbody>\n</table>\n</div>"
     },
     "metadata": {},
     "output_type": "execute_result",
     "execution_count": 28
    }
   ],
   "source": [
    "list_D1 = \"i love you\".split(' ')\n",
    "list_D2 = \"you are beautiful\".split(' ')\n",
    "list_D3 = \"i love beautiful koblenz\".split(' ')\n",
    "\n",
    "Union_all_documents= list(set(list_D1+list_D2+list_D3))# find all unique words in all the documents\n",
    "Union_all_documents.sort()# sort the values alphabetically\n",
    "\n",
    "# create a function that help us to count words in documents with respect to Vocabulary\n",
    "def count(LIST):\n",
    "    list_count=[]\n",
    "    for x in Union_all_documents:\n",
    "         list_count.insert(Union_all_documents.index(x),LIST.count(x))\n",
    "    return list_count\n",
    "\n",
    "# create a function that help us to count the sum of words in documents with respect to Vocabulary\n",
    "\n",
    "\n",
    "df2=pd.DataFrame({'D_1': count(list_D1),  'D_2': count(list_D2), 'D_3': count(list_D3)},index=[Union_all_documents])\n",
    "df2"
   ]
  },
  {
   "cell_type": "markdown",
   "metadata": {},
   "source": [
    "Find scalar product "
   ]
  },
  {
   "cell_type": "code",
   "execution_count": 29,
   "metadata": {
    "pycharm": {
     "is_executing": false
    }
   },
   "outputs": [
    {
     "name": "stdout",
     "text": [
      "1 2 1\n"
     ],
     "output_type": "stream"
    }
   ],
   "source": [
    "ScalarProductD1_D2=np.dot(df2['D_1'],df2['D_2']) # vector D1 and D2\n",
    "ScalarProductD1_D3=np.dot(df2['D_1'],df2['D_3']) # vector D1 and D3\n",
    "ScalarProductD2_D3=np.dot(df2['D_2'],df2['D_3']) # vector D2 and D3\n",
    "print(ScalarProductD1_D2,ScalarProductD1_D3,ScalarProductD2_D3)"
   ]
  },
  {
   "cell_type": "markdown",
   "metadata": {},
   "source": [
    "Find the legth of each vector"
   ]
  },
  {
   "cell_type": "code",
   "execution_count": 30,
   "metadata": {
    "pycharm": {
     "is_executing": false
    }
   },
   "outputs": [
    {
     "name": "stdout",
     "text": [
      "1.7320508075688772 1.7320508075688772 2.0\n"
     ],
     "output_type": "stream"
    }
   ],
   "source": [
    "d1=0\n",
    "d2=0\n",
    "d3=0\n",
    "for i in range(len(df2)) : \n",
    "    d1 += int(df2.iloc[i, 0])**2\n",
    "    d2 += int(df2.iloc[i, 1])**2\n",
    "    d3 += int(df2.iloc[i, 2])**2\n",
    "d1=math.sqrt(d1)\n",
    "d2=math.sqrt(d2)\n",
    "d3=math.sqrt(d3)\n",
    "print(d1,d2,d3)"
   ]
  },
  {
   "cell_type": "markdown",
   "metadata": {},
   "source": [
    "Find  CosineSimilarity and angle"
   ]
  },
  {
   "cell_type": "code",
   "execution_count": 31,
   "metadata": {
    "pycharm": {
     "is_executing": false
    }
   },
   "outputs": [
    {
     "name": "stdout",
     "text": [
      "0.3333 0.5774 0.2887\n"
     ],
     "output_type": "stream"
    }
   ],
   "source": [
    "def cosineSimilaity(ScalarProduct, length1,length2):\n",
    "    return  round( ScalarProduct/(length1*length2) , 4)\n",
    "\n",
    "CosineSimilarityD1_D2=cosineSimilaity(ScalarProductD1_D2,d1,d2)\n",
    "CosineSimilarityD1_D3=cosineSimilaity(ScalarProductD1_D3,d1,d3)\n",
    "CosineSimilarityD2_D3=cosineSimilaity(ScalarProductD2_D3,d2,d3)\n",
    "print(CosineSimilarityD1_D2, CosineSimilarityD1_D3, CosineSimilarityD2_D3)"
   ]
  },
  {
   "cell_type": "code",
   "execution_count": 32,
   "metadata": {
    "pycharm": {
     "is_executing": false
    }
   },
   "outputs": [
    {
     "name": "stdout",
     "text": [
      "Similarity of D1 and D2: 0.3333 \n",
      " Angle distance of D1 and D2: 70.53080506456054 \n",
      " \n",
      " Similarity of D1 and D3: 0.5774 \n",
      " Angle distance of D1 and D3: 54.73212049625207 \n",
      " \n",
      " Similarity of D2 and D3: 0.2887 \n",
      " Angle distance of D2 and D3: 73.21985708058762 \n",
      "\n"
     ],
     "output_type": "stream"
    }
   ],
   "source": [
    "print(\"Similarity of D1 and D2:\", CosineSimilarityD1_D2, \"\\n\", \n",
    "      \"Angle distance of D1 and D2:\", math.degrees(math.acos(CosineSimilarityD1_D2)),'\\n', '\\n',\n",
    "     \"Similarity of D1 and D3:\", CosineSimilarityD1_D3, \"\\n\", \n",
    "      \"Angle distance of D1 and D3:\", math.degrees(math.acos(CosineSimilarityD1_D3)),'\\n', '\\n',\n",
    "     \"Similarity of D2 and D3:\", CosineSimilarityD2_D3, \"\\n\", \n",
    "      \"Angle distance of D2 and D3:\", math.degrees(math.acos(CosineSimilarityD2_D3)),'\\n')\n"
   ]
  },
  {
   "cell_type": "code",
   "execution_count": 32,
   "metadata": {
    "pycharm": {
     "is_executing": false
    }
   },
   "outputs": [],
   "source": []
  },
  {
   "cell_type": "code",
   "execution_count": 32,
   "metadata": {
    "pycharm": {
     "is_executing": false
    }
   },
   "outputs": [],
   "source": []
  }
 ],
 "metadata": {
  "kernelspec": {
   "display_name": "Python 3",
   "language": "python",
   "name": "python3"
  },
  "language_info": {
   "codemirror_mode": {
    "name": "ipython",
    "version": 3
   },
   "file_extension": ".py",
   "mimetype": "text/x-python",
   "name": "python",
   "nbconvert_exporter": "python",
   "pygments_lexer": "ipython3",
   "version": "3.7.3"
  },
  "pycharm": {
   "stem_cell": {
    "cell_type": "raw",
    "source": [],
    "metadata": {
     "collapsed": false
    }
   }
  }
 },
 "nbformat": 4,
 "nbformat_minor": 2
}